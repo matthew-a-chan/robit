{
 "cells": [
  {
   "cell_type": "code",
   "execution_count": 1,
   "metadata": {},
   "outputs": [],
   "source": [
    "%load_ext autoreload\n",
    "%autoreload 2"
   ]
  },
  {
   "cell_type": "code",
   "execution_count": 2,
   "metadata": {},
   "outputs": [],
   "source": [
    "import robit\n",
    "import ik"
   ]
  },
  {
   "cell_type": "code",
   "execution_count": 3,
   "metadata": {},
   "outputs": [],
   "source": [
    "import matplotlib.pyplot as plt\n",
    "import numpy as np\n",
    "import time\n",
    "import odrive\n",
    "from odrive.utils import *\n",
    "import math\n",
    "from trot_controller import TrotController"
   ]
  },
  {
   "cell_type": "code",
   "execution_count": null,
   "metadata": {},
   "outputs": [],
   "source": [
    "robit.detect(3)"
   ]
  },
  {
   "cell_type": "code",
   "execution_count": 166,
   "metadata": {},
   "outputs": [],
   "source": [
    "R = robit.Robit(enable_diagnostic=True)"
   ]
  },
  {
   "cell_type": "code",
   "execution_count": 167,
   "metadata": {},
   "outputs": [
    {
     "name": "stdout",
     "output_type": "stream",
     "text": [
      "looking for device 205B39964D4D\n",
      "found device\n"
     ]
    }
   ],
   "source": [
    "R.add_controller(('205B39964D4D', 'Front_Left_Lower', 'Front_Left_Hip')) # left"
   ]
  },
  {
   "cell_type": "code",
   "execution_count": 168,
   "metadata": {},
   "outputs": [
    {
     "name": "stdout",
     "output_type": "stream",
     "text": [
      "looking for device 206E39A24D4D\n",
      "found device\n"
     ]
    }
   ],
   "source": [
    "R.add_controller(('206E39A24D4D', 'Front_Right_Upper', 'Front_Left_Upper')) # middle"
   ]
  },
  {
   "cell_type": "code",
   "execution_count": 169,
   "metadata": {},
   "outputs": [
    {
     "name": "stdout",
     "output_type": "stream",
     "text": [
      "looking for device 207D396D4D4D\n",
      "found device\n"
     ]
    }
   ],
   "source": [
    "R.add_controller(('207D396D4D4D', 'Front_Right_Lower', 'Front_Right_Hip')) # right"
   ]
  },
  {
   "cell_type": "code",
   "execution_count": 170,
   "metadata": {},
   "outputs": [],
   "source": [
    "R.autoconfig ()\n",
    "#R.reboot ()"
   ]
  },
  {
   "cell_type": "code",
   "execution_count": 172,
   "metadata": {},
   "outputs": [
    {
     "name": "stdout",
     "output_type": "stream",
     "text": [
      "205B39964D4D\n",
      "axis0\n",
      "  axis: \u001b[92;1mno error\u001b[0m\n",
      "  motor: \u001b[92;1mno error\u001b[0m\n",
      "  encoder: \u001b[92;1mno error\u001b[0m\n",
      "  controller: \u001b[92;1mno error\u001b[0m\n",
      "axis1\n",
      "  axis: \u001b[92;1mno error\u001b[0m\n",
      "  motor: \u001b[92;1mno error\u001b[0m\n",
      "  encoder: \u001b[92;1mno error\u001b[0m\n",
      "  controller: \u001b[92;1mno error\u001b[0m\n",
      "206E39A24D4D\n",
      "axis0\n",
      "  axis: \u001b[92;1mno error\u001b[0m\n",
      "  motor: \u001b[92;1mno error\u001b[0m\n",
      "  encoder: \u001b[92;1mno error\u001b[0m\n",
      "  controller: \u001b[92;1mno error\u001b[0m\n",
      "axis1\n",
      "  axis: \u001b[92;1mno error\u001b[0m\n",
      "  motor: \u001b[92;1mno error\u001b[0m\n",
      "  encoder: \u001b[92;1mno error\u001b[0m\n",
      "  controller: \u001b[92;1mno error\u001b[0m\n",
      "207D396D4D4D\n",
      "axis0\n",
      "  axis: \u001b[92;1mno error\u001b[0m\n",
      "  motor: \u001b[92;1mno error\u001b[0m\n",
      "  encoder: \u001b[92;1mno error\u001b[0m\n",
      "  controller: \u001b[92;1mno error\u001b[0m\n",
      "axis1\n",
      "  axis: \u001b[92;1mno error\u001b[0m\n",
      "  motor: \u001b[92;1mno error\u001b[0m\n",
      "  encoder: \u001b[92;1mno error\u001b[0m\n",
      "  controller: \u001b[92;1mno error\u001b[0m\n"
     ]
    }
   ],
   "source": [
    "R.dump_faults (clear=True)"
   ]
  },
  {
   "cell_type": "code",
   "execution_count": 35,
   "metadata": {},
   "outputs": [],
   "source": [
    "motors = ['Front_Left_Hip', 'Front_Right_Hip']"
   ]
  },
  {
   "cell_type": "code",
   "execution_count": 77,
   "metadata": {},
   "outputs": [],
   "source": [
    "motors = ['Front_Left_Upper']#, 'Front_Right_Upper']"
   ]
  },
  {
   "cell_type": "code",
   "execution_count": 169,
   "metadata": {},
   "outputs": [],
   "source": [
    "R.set_states (motors, ['CONTROL'] * len(motors))"
   ]
  },
  {
   "cell_type": "code",
   "execution_count": 170,
   "metadata": {},
   "outputs": [],
   "source": [
    "R.set_states (motors, ['IDLE'] * len(motors))"
   ]
  },
  {
   "cell_type": "code",
   "execution_count": null,
   "metadata": {},
   "outputs": [],
   "source": []
  },
  {
   "cell_type": "code",
   "execution_count": 160,
   "metadata": {},
   "outputs": [],
   "source": [
    "r = 0\n",
    "FLH = list()\n",
    "FRH = list()\n",
    "for _ in range(100):\n",
    "    resistances = R.measure_resistances(motors)\n",
    "    FLH.append (resistances['Front_Left_Hip'])\n",
    "    FRH.append (resistances['Front_Right_Hip'])\n",
    "    time.sleep(0.25)"
   ]
  },
  {
   "cell_type": "code",
   "execution_count": 133,
   "metadata": {},
   "outputs": [],
   "source": [
    "import time\n",
    "r = 0\n",
    "a = list()\n",
    "b = list()\n",
    "for _ in range(1000):\n",
    "    a.append(R.get_motor('Front_Right_Lower').encoder.shadow_count)\n",
    "    b.append(R.get_motor('Front_Left_Lower').encoder.shadow_count)\n",
    "    time.sleep(.005)\n"
   ]
  },
  {
   "cell_type": "code",
   "execution_count": 134,
   "metadata": {},
   "outputs": [
    {
     "data": {
      "text/plain": [
       "[<matplotlib.lines.Line2D at 0x110dfc710>]"
      ]
     },
     "execution_count": 134,
     "metadata": {},
     "output_type": "execute_result"
    },
    {
     "data": {
      "image/png": "[encoded data removed]",
      "text/plain": [
       "<Figure size 432x288 with 1 Axes>"
      ]
     },
     "metadata": {
      "needs_background": "light"
     },
     "output_type": "display_data"
    }
   ],
   "source": [
    "plt.plot (a)\n",
    "plt.plot (b)"
   ]
  },
  {
   "cell_type": "code",
   "execution_count": null,
   "metadata": {},
   "outputs": [],
   "source": []
  },
  {
   "cell_type": "code",
   "execution_count": 76,
   "metadata": {},
   "outputs": [],
   "source": [
    "R.set_state ('Front_Left_Upper', 'CALIBRATE')"
   ]
  },
  {
   "cell_type": "code",
   "execution_count": 14,
   "metadata": {},
   "outputs": [],
   "source": [
    "R.set_state ('Front_Left_Lower', 'CONTROL')"
   ]
  },
  {
   "cell_type": "code",
   "execution_count": 39,
   "metadata": {},
   "outputs": [],
   "source": [
    "motors = ['Front_Left_Lower', 'Front_Left_Upper', 'Front_Left_Hip', 'Front_Right_Lower', 'Front_Right_Upper', 'Front_Right_Hip']\n",
    "R.set_states (motors, ['CONTROL'] * len(motors))"
   ]
  },
  {
   "cell_type": "code",
   "execution_count": 81,
   "metadata": {},
   "outputs": [],
   "source": [
    "motors = ['Front_Left_Lower', 'Front_Left_Upper', 'Front_Left_Hip', 'Front_Right_Lower', 'Front_Right_Upper', 'Front_Right_Hip']\n",
    "R.set_states (motors, ['IDLE'] * len(motors))"
   ]
  },
  {
   "cell_type": "code",
   "execution_count": 35,
   "metadata": {},
   "outputs": [],
   "source": [
    "motors = ['Front_Left_Lower', 'Front_Left_Upper', 'Front_Left_Hip', 'Front_Right_Lower', 'Front_Right_Upper', 'Front_Right_Hip']\n",
    "R.set_states (motors, ['CALIBRATE'] * len(motors))"
   ]
  },
  {
   "cell_type": "code",
   "execution_count": null,
   "metadata": {},
   "outputs": [],
   "source": []
  },
  {
   "cell_type": "code",
   "execution_count": 247,
   "metadata": {},
   "outputs": [],
   "source": [
    "R.get_motor('Front_Right_Lower').motor.config.direction = 0"
   ]
  },
  {
   "cell_type": "code",
   "execution_count": 252,
   "metadata": {},
   "outputs": [
    {
     "data": {
      "text/plain": [
       "1"
      ]
     },
     "execution_count": 252,
     "metadata": {},
     "output_type": "execute_result"
    }
   ],
   "source": [
    "R.get_motor('Front_Right_Lower').motor.config.direction"
   ]
  },
  {
   "cell_type": "code",
   "execution_count": 124,
   "metadata": {},
   "outputs": [
    {
     "name": "stdout",
     "output_type": "stream",
     "text": [
      "205B39964D4D\n",
      "axis0\n",
      "  axis: \u001b[92;1mno error\u001b[0m\n",
      "  motor: \u001b[92;1mno error\u001b[0m\n",
      "  encoder: \u001b[92;1mno error\u001b[0m\n",
      "  controller: \u001b[92;1mno error\u001b[0m\n",
      "axis1\n",
      "  axis: \u001b[92;1mno error\u001b[0m\n",
      "  motor: \u001b[92;1mno error\u001b[0m\n",
      "  encoder: \u001b[92;1mno error\u001b[0m\n",
      "  controller: \u001b[92;1mno error\u001b[0m\n",
      "206E39A24D4D\n",
      "axis0\n",
      "  axis: \u001b[92;1mno error\u001b[0m\n",
      "  motor: \u001b[92;1mno error\u001b[0m\n",
      "  encoder: \u001b[92;1mno error\u001b[0m\n",
      "  controller: \u001b[92;1mno error\u001b[0m\n",
      "axis1\n",
      "  axis: \u001b[92;1mno error\u001b[0m\n",
      "  motor: \u001b[92;1mno error\u001b[0m\n",
      "  encoder: \u001b[92;1mno error\u001b[0m\n",
      "  controller: \u001b[92;1mno error\u001b[0m\n",
      "207D396D4D4D\n",
      "axis0\n",
      "  axis: \u001b[92;1mno error\u001b[0m\n",
      "  motor: \u001b[92;1mno error\u001b[0m\n",
      "  encoder: \u001b[92;1mno error\u001b[0m\n",
      "  controller: \u001b[92;1mno error\u001b[0m\n",
      "axis1\n",
      "  axis: \u001b[92;1mno error\u001b[0m\n",
      "  motor: \u001b[92;1mno error\u001b[0m\n",
      "  encoder: \u001b[92;1mno error\u001b[0m\n",
      "  controller: \u001b[92;1mno error\u001b[0m\n"
     ]
    }
   ],
   "source": [
    "motor = 'Front_Right_Lower'\n",
    "R.dump_faults (clear=True)\n",
    "R.reset ([motor], [0])\n",
    "R.set_state (motor, 'CALIBRATE')"
   ]
  },
  {
   "cell_type": "code",
   "execution_count": null,
   "metadata": {},
   "outputs": [],
   "source": []
  },
  {
   "cell_type": "code",
   "execution_count": 151,
   "metadata": {},
   "outputs": [
    {
     "name": "stdout",
     "output_type": "stream",
     "text": [
      "205B39964D4D\n",
      "axis0\n",
      "  axis: \u001b[91;1mError(s):\u001b[0m\n",
      "    ERROR_CONTROLLER_FAILED\n",
      "  motor: \u001b[91;1mError(s):\u001b[0m\n",
      "    ERROR_CONTROL_DEADLINE_MISSED\n",
      "  encoder: \u001b[92;1mno error\u001b[0m\n",
      "  controller: \u001b[91;1mError(s):\u001b[0m\n",
      "    ERROR_OVERSPEED\n",
      "axis1\n",
      "  axis: \u001b[92;1mno error\u001b[0m\n",
      "  motor: \u001b[92;1mno error\u001b[0m\n",
      "  encoder: \u001b[92;1mno error\u001b[0m\n",
      "  controller: \u001b[92;1mno error\u001b[0m\n",
      "206E39A24D4D\n",
      "axis0\n",
      "  axis: \u001b[92;1mno error\u001b[0m\n",
      "  motor: \u001b[92;1mno error\u001b[0m\n",
      "  encoder: \u001b[92;1mno error\u001b[0m\n",
      "  controller: \u001b[92;1mno error\u001b[0m\n",
      "axis1\n",
      "  axis: \u001b[92;1mno error\u001b[0m\n",
      "  motor: \u001b[92;1mno error\u001b[0m\n",
      "  encoder: \u001b[92;1mno error\u001b[0m\n",
      "  controller: \u001b[92;1mno error\u001b[0m\n",
      "207D396D4D4D\n",
      "axis0\n",
      "  axis: \u001b[92;1mno error\u001b[0m\n",
      "  motor: \u001b[92;1mno error\u001b[0m\n",
      "  encoder: \u001b[92;1mno error\u001b[0m\n",
      "  controller: \u001b[92;1mno error\u001b[0m\n",
      "axis1\n",
      "  axis: \u001b[92;1mno error\u001b[0m\n",
      "  motor: \u001b[92;1mno error\u001b[0m\n",
      "  encoder: \u001b[92;1mno error\u001b[0m\n",
      "  controller: \u001b[92;1mno error\u001b[0m\n"
     ]
    }
   ],
   "source": [
    "R.dump_faults (clear=True)"
   ]
  },
  {
   "cell_type": "code",
   "execution_count": 420,
   "metadata": {},
   "outputs": [],
   "source": []
  },
  {
   "cell_type": "code",
   "execution_count": 74,
   "metadata": {},
   "outputs": [],
   "source": [
    "motors = ['Front_Right_Hip', 'Front_Right_Upper', 'Front_Right_Lower', 'Front_Left_Hip', 'Front_Left_Upper', 'Front_Left_Lower']\n",
    "iterations = 1000\n",
    "\n",
    "forward = np.array ([50, 100, -180])\n",
    "backward = np.array ([50, -100, -180])"
   ]
  },
  {
   "cell_type": "code",
   "execution_count": 179,
   "metadata": {},
   "outputs": [],
   "source": [
    "class LegController:\n",
    "    def __init__(self, mode):\n",
    "        self.forward_position = np.array ([0, 100, -225])\n",
    "        self.backward_position = np.array ([0, -10, -225])\n",
    "        \n",
    "        self.height = 40\n",
    "        \n",
    "        self.timestep = 0\n",
    "        self.cycle_length = 100\n",
    "        self.mode = mode # 'forward' or 'backward'\n",
    "    \n",
    "    def get_position(self):\n",
    "        t = self.timestep / self.cycle_length\n",
    "        if self.mode == 'backward':\n",
    "            position = t * self.backward_position + (1 - t) * self.forward_position\n",
    "        elif self.mode == 'forward':\n",
    "            position = t * self.forward_position + (1 - t) * self.backward_position + np.array([0, 0, np.sin(t * 3.14159) * self.height])\n",
    "            \n",
    "        self.timestep += 1\n",
    "        if self.timestep > self.cycle_length:\n",
    "            self.timestep = 0\n",
    "            self.mode = 'forward' if self.mode == 'backward' else 'backward' # toggle mode\n",
    "        return position\n",
    "    \n",
    "class TrotController:\n",
    "    def __init__(self):\n",
    "        self.L = LegController('forward')\n",
    "        self.R = LegController('backward')\n",
    "        \n",
    "    def step(self):\n",
    "        return self.L.get_position(), self.R.get_position()\n",
    "        "
   ]
  },
  {
   "cell_type": "code",
   "execution_count": null,
   "metadata": {},
   "outputs": [],
   "source": []
  },
  {
   "cell_type": "code",
   "execution_count": null,
   "metadata": {},
   "outputs": [],
   "source": []
  },
  {
   "cell_type": "code",
   "execution_count": 181,
   "metadata": {},
   "outputs": [],
   "source": [
    "TC = TrotController()\n",
    "\n",
    "R.set_states (motors, ['CONTROL'] * len(motors))\n",
    "for i in range (0, 1000):\n",
    "    pos = TC.step()\n",
    "    R.place ({'Front_Left': pos[0], 'Front_Right': pos[1]})\n",
    "    time.sleep (0.01)"
   ]
  },
  {
   "cell_type": "code",
   "execution_count": 182,
   "metadata": {},
   "outputs": [],
   "source": [
    "R.set_states (motors, ['IDLE'] * len(motors))"
   ]
  },
  {
   "cell_type": "code",
   "execution_count": null,
   "metadata": {},
   "outputs": [],
   "source": []
  },
  {
   "cell_type": "code",
   "execution_count": null,
   "metadata": {},
   "outputs": [],
   "source": []
  },
  {
   "cell_type": "code",
   "execution_count": 173,
   "metadata": {},
   "outputs": [],
   "source": [
    "R.set_states (motors, ['CALIBRATE'] * len(motors))"
   ]
  },
  {
   "cell_type": "code",
   "execution_count": 174,
   "metadata": {},
   "outputs": [],
   "source": [
    "R.reset(motors, [0] * len(motors))"
   ]
  },
  {
   "cell_type": "code",
   "execution_count": 183,
   "metadata": {},
   "outputs": [],
   "source": [
    "R.set_states (motors, ['CONTROL'] * len(motors))"
   ]
  },
  {
   "cell_type": "code",
   "execution_count": 184,
   "metadata": {},
   "outputs": [],
   "source": [
    "R.set_states (motors, ['IDLE'] * len(motors))"
   ]
  },
  {
   "cell_type": "code",
   "execution_count": null,
   "metadata": {},
   "outputs": [],
   "source": []
  },
  {
   "cell_type": "code",
   "execution_count": 121,
   "metadata": {},
   "outputs": [],
   "source": [
    "R.set_states (motors, ['IDLE'] * len(motors))"
   ]
  },
  {
   "cell_type": "code",
   "execution_count": null,
   "metadata": {},
   "outputs": [],
   "source": []
  },
  {
   "cell_type": "code",
   "execution_count": 228,
   "metadata": {},
   "outputs": [],
   "source": [
    "position1 = np.array([50, 0, -240])\n",
    "position2 = np.array([50, 50, -160])"
   ]
  },
  {
   "cell_type": "code",
   "execution_count": 229,
   "metadata": {},
   "outputs": [],
   "source": [
    "iterations = 80"
   ]
  },
  {
   "cell_type": "code",
   "execution_count": 258,
   "metadata": {},
   "outputs": [],
   "source": [
    "R.place({'Front_Left': position1, 'Front_Right': position1})\n",
    "time.sleep (1)\n",
    "\n",
    "for i in range (0, iterations):\n",
    "    p = (1 - i/iterations) * position1 + (i/iterations) * position2\n",
    "    R.place({'Front_Left': p, 'Front_Right': p})\n",
    "    time.sleep (0.01)"
   ]
  },
  {
   "cell_type": "code",
   "execution_count": 120,
   "metadata": {},
   "outputs": [
    {
     "ename": "NameError",
     "evalue": "name 'position2' is not defined",
     "output_type": "error",
     "traceback": [
      "\u001b[0;31m---------------------------------------------------------------------------\u001b[0m",
      "\u001b[0;31mNameError\u001b[0m                                 Traceback (most recent call last)",
      "\u001b[0;32m<ipython-input-120-419ff35350d9>\u001b[0m in \u001b[0;36m<module>\u001b[0;34m\u001b[0m\n\u001b[0;32m----> 1\u001b[0;31m \u001b[0mR\u001b[0m\u001b[0;34m.\u001b[0m\u001b[0mplace\u001b[0m\u001b[0;34m(\u001b[0m\u001b[0;34m{\u001b[0m\u001b[0;34m'Front_Left'\u001b[0m\u001b[0;34m:\u001b[0m \u001b[0mposition2\u001b[0m\u001b[0;34m,\u001b[0m \u001b[0;34m'Front_Right'\u001b[0m\u001b[0;34m:\u001b[0m \u001b[0mposition2\u001b[0m\u001b[0;34m}\u001b[0m\u001b[0;34m)\u001b[0m\u001b[0;34m\u001b[0m\u001b[0;34m\u001b[0m\u001b[0m\n\u001b[0m\u001b[1;32m      2\u001b[0m \u001b[0mtime\u001b[0m\u001b[0;34m.\u001b[0m\u001b[0msleep\u001b[0m \u001b[0;34m(\u001b[0m\u001b[0;36m1\u001b[0m\u001b[0;34m)\u001b[0m\u001b[0;34m\u001b[0m\u001b[0;34m\u001b[0m\u001b[0m\n\u001b[1;32m      3\u001b[0m \u001b[0;34m\u001b[0m\u001b[0m\n\u001b[1;32m      4\u001b[0m \u001b[0;32mfor\u001b[0m \u001b[0mi\u001b[0m \u001b[0;32min\u001b[0m \u001b[0mrange\u001b[0m \u001b[0;34m(\u001b[0m\u001b[0;36m0\u001b[0m\u001b[0;34m,\u001b[0m \u001b[0miterations\u001b[0m\u001b[0;34m)\u001b[0m\u001b[0;34m:\u001b[0m\u001b[0;34m\u001b[0m\u001b[0;34m\u001b[0m\u001b[0m\n\u001b[1;32m      5\u001b[0m     \u001b[0mp\u001b[0m \u001b[0;34m=\u001b[0m \u001b[0;34m(\u001b[0m\u001b[0mi\u001b[0m\u001b[0;34m/\u001b[0m\u001b[0miterations\u001b[0m\u001b[0;34m)\u001b[0m \u001b[0;34m*\u001b[0m \u001b[0mposition1\u001b[0m \u001b[0;34m+\u001b[0m \u001b[0;34m(\u001b[0m\u001b[0;36m1\u001b[0m \u001b[0;34m-\u001b[0m \u001b[0mi\u001b[0m\u001b[0;34m/\u001b[0m\u001b[0miterations\u001b[0m\u001b[0;34m)\u001b[0m \u001b[0;34m*\u001b[0m \u001b[0mposition2\u001b[0m\u001b[0;34m\u001b[0m\u001b[0;34m\u001b[0m\u001b[0m\n",
      "\u001b[0;31mNameError\u001b[0m: name 'position2' is not defined"
     ]
    }
   ],
   "source": [
    "R.place({'Front_Left': position2, 'Front_Right': position2})\n",
    "time.sleep (1)\n",
    "\n",
    "for i in range (0, iterations):\n",
    "    p = (i/iterations) * position1 + (1 - i/iterations) * position2\n",
    "    R.place({'Front_Left': p, 'Front_Right': p})\n",
    "    time.sleep (0.01)\n",
    "    print (ik.solve(p, 'Front_Right'))\n"
   ]
  },
  {
   "cell_type": "code",
   "execution_count": null,
   "metadata": {},
   "outputs": [],
   "source": [
    "#TODO: FIX IK :D\n",
    "#TODO: log encoder positions (using R.get_motor('Front_Left_Lower').encoder.shadow_count) during pushup sequence"
   ]
  },
  {
   "cell_type": "code",
   "execution_count": 394,
   "metadata": {},
   "outputs": [],
   "source": [
    "position = [50, 0, -190]\n",
    "\n",
    "a = list()\n",
    "\n",
    "R.place({'Front_Left': position, 'Front_Right': position})\n",
    "time.sleep (2)\n",
    "\n",
    "for _ in range (0, 500):\n",
    "    position[2] -= .1\n",
    "    a.append(ik.solve (position, 'Front_Left'))"
   ]
  },
  {
   "cell_type": "code",
   "execution_count": 374,
   "metadata": {},
   "outputs": [],
   "source": [
    "a = list()"
   ]
  },
  {
   "cell_type": "code",
   "execution_count": 92,
   "metadata": {},
   "outputs": [],
   "source": [
    "def test_sin (labels, revolutions, amplitude, set_states=False):\n",
    "    if set_states:\n",
    "        R.set_states (labels, ['CONTROL'] * len(labels))\n",
    "    iterations = 1000\n",
    "    for i in range (iterations):\n",
    "        R.snap (labels, [math.sin(revolutions * 6.282 * i / iterations) * amplitude] * len(labels))\n",
    "        time.sleep (5.0 / iterations)\n",
    "    if set_states:\n",
    "        R.set_states (labels, ['IDLE'] * len(labels))"
   ]
  },
  {
   "cell_type": "code",
   "execution_count": 105,
   "metadata": {},
   "outputs": [],
   "source": [
    "test_sin (['Front_Right_Lower'], 2, 1, set_states=True)"
   ]
  },
  {
   "cell_type": "code",
   "execution_count": 103,
   "metadata": {},
   "outputs": [
    {
     "data": {
      "text/plain": [
       "vel_limit = 100000.0 (float)\n",
       "accel_limit = 500000.0 (float)\n",
       "decel_limit = 500000.0 (float)\n",
       "A_per_css = 0.0 (float)"
      ]
     },
     "execution_count": 103,
     "metadata": {},
     "output_type": "execute_result"
    }
   ],
   "source": [
    "R.get_motor('Front_Left_Lower').trap_traj.config"
   ]
  },
  {
   "cell_type": "code",
   "execution_count": 413,
   "metadata": {},
   "outputs": [],
   "source": [
    "R.autoconfig ()"
   ]
  },
  {
   "cell_type": "code",
   "execution_count": null,
   "metadata": {},
   "outputs": [],
   "source": []
  }
 ],
 "metadata": {
  "kernelspec": {
   "display_name": "Python 3",
   "language": "python",
   "name": "python3"
  },
  "language_info": {
   "codemirror_mode": {
    "name": "ipython",
    "version": 3
   },
   "file_extension": ".py",
   "mimetype": "text/x-python",
   "name": "python",
   "nbconvert_exporter": "python",
   "pygments_lexer": "ipython3",
   "version": "3.7.7"
  }
 },
 "nbformat": 4,
 "nbformat_minor": 4
}
