{
 "cells": [
  {
   "cell_type": "code",
   "execution_count": 1,
   "metadata": {},
   "outputs": [],
   "source": [
    "%load_ext autoreload\n",
    "%aimport robit\n",
    "%autoreload 1"
   ]
  },
  {
   "cell_type": "code",
   "execution_count": 2,
   "metadata": {},
   "outputs": [],
   "source": [
    "import robit"
   ]
  },
  {
   "cell_type": "code",
   "execution_count": 3,
   "metadata": {},
   "outputs": [],
   "source": [
    "import matplotlib.pyplot as plt\n",
    "import numpy as np\n",
    "import time\n",
    "import odrive\n",
    "from odrive.utils import *"
   ]
  },
  {
   "cell_type": "code",
   "execution_count": 4,
   "metadata": {},
   "outputs": [
    {
     "name": "stdout",
     "output_type": "stream",
     "text": [
      "looking for device 205B39964D4D\n",
      "found device\n"
     ]
    }
   ],
   "source": [
    "R = robit.Robit([('205B39964D4D', 0, 'Test')])"
   ]
  },
  {
   "cell_type": "code",
   "execution_count": 5,
   "metadata": {
    "collapsed": true,
    "jupyter": {
     "outputs_hidden": true
    }
   },
   "outputs": [
    {
     "data": {
      "text/plain": [
       "error = 0x0000 (int)\n",
       "step_dir_active = False (bool)\n",
       "current_state = 1 (int)\n",
       "requested_state = 0 (int)\n",
       "loop_counter = 212499 (int)\n",
       "lockin_state = 0 (int)\n",
       "config:\n",
       "  startup_motor_calibration = False (bool)\n",
       "  startup_encoder_index_search = False (bool)\n",
       "  startup_encoder_offset_calibration = False (bool)\n",
       "  startup_closed_loop_control = False (bool)\n",
       "  startup_sensorless_control = False (bool)\n",
       "  enable_step_dir = False (bool)\n",
       "  counts_per_step = 2.0 (float)\n",
       "  watchdog_timeout = 0.0 (float)\n",
       "  step_gpio_pin = 1 (int)\n",
       "  dir_gpio_pin = 2 (int)\n",
       "  calibration_lockin: ...\n",
       "  sensorless_ramp: ...\n",
       "  general_lockin: ...\n",
       "motor:\n",
       "  error = 0x0000 (int)\n",
       "  armed_state = 0 (int)\n",
       "  is_calibrated = False (bool)\n",
       "  current_meas_phB = -0.056967973709106445 (float)\n",
       "  current_meas_phC = 0.21069878339767456 (float)\n",
       "  DC_calib_phB = -0.5073113441467285 (float)\n",
       "  DC_calib_phC = -0.9358620643615723 (float)\n",
       "  phase_current_rev_gain = 0.02500000037252903 (float)\n",
       "  thermal_current_lim = 101.83882904052734 (float)\n",
       "  get_inverter_temp()\n",
       "  current_control: ...\n",
       "  gate_driver: ...\n",
       "  timing_log: ...\n",
       "  config: ...\n",
       "controller:\n",
       "  error = 0x0000 (int)\n",
       "  pos_setpoint = 0.0 (float)\n",
       "  vel_setpoint = 0.0 (float)\n",
       "  vel_integrator_current = 0.0 (float)\n",
       "  current_setpoint = 0.0 (float)\n",
       "  vel_ramp_target = 0.0 (float)\n",
       "  vel_ramp_enable = False (bool)\n",
       "  config: ...\n",
       "  set_pos_setpoint(pos_setpoint: float, vel_feed_forward: float, current_feed_forward: float)\n",
       "  set_vel_setpoint(vel_setpoint: float, current_feed_forward: float)\n",
       "  set_current_setpoint(current_setpoint: float)\n",
       "  move_to_pos(pos_setpoint: float)\n",
       "  move_incremental(displacement: float, from_goal_point: bool)\n",
       "  start_anticogging_calibration()\n",
       "encoder:\n",
       "  error = 0x0000 (int)\n",
       "  is_ready = False (bool)\n",
       "  index_found = False (bool)\n",
       "  shadow_count = 2722 (int)\n",
       "  count_in_cpr = 2722 (int)\n",
       "  interpolation = 0.5 (float)\n",
       "  phase = 0.6820707321166992 (float)\n",
       "  pos_estimate = 2722.750244140625 (float)\n",
       "  pos_cpr = 2722.75 (float)\n",
       "  hall_state = 4 (int)\n",
       "  vel_estimate = 0.0 (float)\n",
       "  calib_scan_response = 0.0 (float)\n",
       "  config: ...\n",
       "  set_linear_count(count: int)\n",
       "sensorless_estimator:\n",
       "  error = 0x0000 (int)\n",
       "  phase = 2.829489231109619 (float)\n",
       "  pll_pos = 2.8306055068969727 (float)\n",
       "  vel_estimate = -0.29183441400527954 (float)\n",
       "  config: ...\n",
       "trap_traj:\n",
       "  config: ...\n",
       "watchdog_feed()"
      ]
     },
     "execution_count": 5,
     "metadata": {},
     "output_type": "execute_result"
    }
   ],
   "source": [
    "R.get_motor ('Test')"
   ]
  },
  {
   "cell_type": "code",
   "execution_count": 37,
   "metadata": {},
   "outputs": [],
   "source": [
    "R.set_state ('Test', 'CONTROL')"
   ]
  },
  {
   "cell_type": "code",
   "execution_count": 65,
   "metadata": {},
   "outputs": [],
   "source": [
    "R.test_sin ('Test', 15, 15000)"
   ]
  },
  {
   "cell_type": "code",
   "execution_count": 64,
   "metadata": {},
   "outputs": [],
   "source": [
    "R.set_state ('Test', 'CALIBRATE')"
   ]
  },
  {
   "cell_type": "code",
   "execution_count": 61,
   "metadata": {},
   "outputs": [],
   "source": [
    "R.set_state ('Test', 'IDLE')"
   ]
  },
  {
   "cell_type": "code",
   "execution_count": 51,
   "metadata": {},
   "outputs": [],
   "source": [
    "R.devices['205B39964D4D'].axis0.controller.config.vel_limit = 300000"
   ]
  },
  {
   "cell_type": "code",
   "execution_count": 19,
   "metadata": {},
   "outputs": [
    {
     "name": "stdout",
     "output_type": "stream",
     "text": [
      "205B39964D4D\n",
      "axis0\n",
      "  axis: \u001b[92;1mno error\u001b[0m\n",
      "  motor: \u001b[92;1mno error\u001b[0m\n",
      "  encoder: \u001b[92;1mno error\u001b[0m\n",
      "  controller: \u001b[92;1mno error\u001b[0m\n",
      "axis1\n",
      "  axis: \u001b[92;1mno error\u001b[0m\n",
      "  motor: \u001b[92;1mno error\u001b[0m\n",
      "  encoder: \u001b[92;1mno error\u001b[0m\n",
      "  controller: \u001b[92;1mno error\u001b[0m\n"
     ]
    }
   ],
   "source": [
    "for serial in R.devices.keys ():\n",
    "    print (serial)\n",
    "    dump_errors (R.devices[serial], True)"
   ]
  },
  {
   "cell_type": "code",
   "execution_count": null,
   "metadata": {},
   "outputs": [],
   "source": [
    "\n",
    "\n",
    "\n",
    "# The below things are broken because of changes :D"
   ]
  },
  {
   "cell_type": "code",
   "execution_count": null,
   "metadata": {},
   "outputs": [],
   "source": [
    "R.device.axis0.controller.config.vel_limit = 100000"
   ]
  },
  {
   "cell_type": "code",
   "execution_count": null,
   "metadata": {},
   "outputs": [],
   "source": [
    "R.device.axis0.controller.config.pos_gain = 50"
   ]
  },
  {
   "cell_type": "code",
   "execution_count": null,
   "metadata": {},
   "outputs": [],
   "source": [
    "R.device.axis0.controller.config.vel_gain = 5 / 100000."
   ]
  },
  {
   "cell_type": "code",
   "execution_count": 26,
   "metadata": {},
   "outputs": [
    {
     "ename": "AttributeError",
     "evalue": "'Robit' object has no attribute 'device'",
     "output_type": "error",
     "traceback": [
      "\u001b[0;31m---------------------------------------------------------------------------\u001b[0m",
      "\u001b[0;31mAttributeError\u001b[0m                            Traceback (most recent call last)",
      "\u001b[0;32m<ipython-input-26-1f91ffd019ce>\u001b[0m in \u001b[0;36m<module>\u001b[0;34m\u001b[0m\n\u001b[1;32m      1\u001b[0m \u001b[0;32mfor\u001b[0m \u001b[0mi\u001b[0m \u001b[0;32min\u001b[0m \u001b[0mrange\u001b[0m \u001b[0;34m(\u001b[0m\u001b[0;36m100\u001b[0m\u001b[0;34m)\u001b[0m\u001b[0;34m:\u001b[0m\u001b[0;34m\u001b[0m\u001b[0;34m\u001b[0m\u001b[0m\n\u001b[0;32m----> 2\u001b[0;31m     \u001b[0mprint\u001b[0m \u001b[0;34m(\u001b[0m\u001b[0mR\u001b[0m\u001b[0;34m.\u001b[0m\u001b[0mdevice\u001b[0m\u001b[0;34m.\u001b[0m\u001b[0maxis0\u001b[0m\u001b[0;34m.\u001b[0m\u001b[0mmotor\u001b[0m\u001b[0;34m.\u001b[0m\u001b[0mcurrent_meas_phB\u001b[0m\u001b[0;34m)\u001b[0m\u001b[0;34m\u001b[0m\u001b[0;34m\u001b[0m\u001b[0m\n\u001b[0m\u001b[1;32m      3\u001b[0m     \u001b[0mtime\u001b[0m\u001b[0;34m.\u001b[0m\u001b[0msleep\u001b[0m \u001b[0;34m(\u001b[0m\u001b[0;36m.1\u001b[0m\u001b[0;34m)\u001b[0m\u001b[0;34m\u001b[0m\u001b[0;34m\u001b[0m\u001b[0m\n",
      "\u001b[0;31mAttributeError\u001b[0m: 'Robit' object has no attribute 'device'"
     ]
    }
   ],
   "source": [
    "for i in range (100):\n",
    "    print (R.device.axis0.motor.current_meas_phB)\n",
    "    time.sleep (.1)"
   ]
  },
  {
   "cell_type": "code",
   "execution_count": null,
   "metadata": {},
   "outputs": [],
   "source": []
  }
 ],
 "metadata": {
  "kernelspec": {
   "display_name": "Python 3",
   "language": "python",
   "name": "python3"
  },
  "language_info": {
   "codemirror_mode": {
    "name": "ipython",
    "version": 3
   },
   "file_extension": ".py",
   "mimetype": "text/x-python",
   "name": "python",
   "nbconvert_exporter": "python",
   "pygments_lexer": "ipython3",
   "version": "3.7.7"
  }
 },
 "nbformat": 4,
 "nbformat_minor": 4
}
