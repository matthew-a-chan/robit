{
 "cells": [
  {
   "cell_type": "code",
   "execution_count": 1,
   "metadata": {},
   "outputs": [],
   "source": [
    "%load_ext autoreload\n",
    "%aimport robit\n",
    "%aimport ik\n",
    "%autoreload 1"
   ]
  },
  {
   "cell_type": "code",
   "execution_count": null,
   "metadata": {},
   "outputs": [],
   "source": [
    "import robit\n",
    "import ik"
   ]
  },
  {
   "cell_type": "code",
   "execution_count": 3,
   "metadata": {},
   "outputs": [],
   "source": [
    "import matplotlib.pyplot as plt\n",
    "import numpy as np\n",
    "import time\n",
    "import odrive\n",
    "from odrive.utils import *\n",
    "import math"
   ]
  },
  {
   "cell_type": "code",
   "execution_count": 170,
   "metadata": {},
   "outputs": [
    {
     "name": "stdout",
     "output_type": "stream",
     "text": [
      "looking for device 205B39964D4D\n",
      "found device\n"
     ]
    }
   ],
   "source": [
    "R = robit.Robit([('205B39964D4D', 'Test1', 'Test2')])"
   ]
  },
  {
   "cell_type": "code",
   "execution_count": 171,
   "metadata": {},
   "outputs": [],
   "source": [
    "R.autoconfig ()"
   ]
  },
  {
   "cell_type": "code",
   "execution_count": 172,
   "metadata": {},
   "outputs": [
    {
     "data": {
      "text/plain": [
       "brake_resistance = 0.10000000149011612 (float)\n",
       "enable_uart = True (bool)\n",
       "enable_i2c_instead_of_can = False (bool)\n",
       "enable_ascii_protocol_on_usb = True (bool)\n",
       "dc_bus_undervoltage_trip_level = 8.0 (float)\n",
       "dc_bus_overvoltage_trip_level = 25.68000030517578 (float)\n",
       "gpio1_pwm_mapping:\n",
       "  endpoint = (0, 0) (RemoteProperty)\n",
       "  min = 0.0 (float)\n",
       "  max = 0.0 (float)\n",
       "gpio2_pwm_mapping:\n",
       "  endpoint = (0, 0) (RemoteProperty)\n",
       "  min = 0.0 (float)\n",
       "  max = 0.0 (float)\n",
       "gpio3_pwm_mapping:\n",
       "  endpoint = (0, 0) (RemoteProperty)\n",
       "  min = 0.0 (float)\n",
       "  max = 0.0 (float)\n",
       "gpio4_pwm_mapping:\n",
       "  endpoint = (0, 0) (RemoteProperty)\n",
       "  min = 0.0 (float)\n",
       "  max = 0.0 (float)\n",
       "gpio3_analog_mapping:\n",
       "  endpoint = (0, 0) (RemoteProperty)\n",
       "  min = 0.0 (float)\n",
       "  max = 0.0 (float)\n",
       "gpio4_analog_mapping:\n",
       "  endpoint = (0, 0) (RemoteProperty)\n",
       "  min = 0.0 (float)\n",
       "  max = 0.0 (float)"
      ]
     },
     "execution_count": 172,
     "metadata": {},
     "output_type": "execute_result"
    }
   ],
   "source": [
    "R.devices['205B39964D4D'].config"
   ]
  },
  {
   "cell_type": "code",
   "execution_count": 44,
   "metadata": {},
   "outputs": [],
   "source": [
    "R.reboot ()"
   ]
  },
  {
   "cell_type": "code",
   "execution_count": 240,
   "metadata": {},
   "outputs": [
    {
     "name": "stdout",
     "output_type": "stream",
     "text": [
      "205B39964D4D\n",
      "axis0\n",
      "  axis: \u001b[92;1mno error\u001b[0m\n",
      "  motor: \u001b[92;1mno error\u001b[0m\n",
      "  encoder: \u001b[92;1mno error\u001b[0m\n",
      "  controller: \u001b[92;1mno error\u001b[0m\n",
      "axis1\n",
      "  axis: \u001b[92;1mno error\u001b[0m\n",
      "  motor: \u001b[92;1mno error\u001b[0m\n",
      "  encoder: \u001b[92;1mno error\u001b[0m\n",
      "  controller: \u001b[92;1mno error\u001b[0m\n"
     ]
    }
   ],
   "source": [
    "R.dump_faults (clear=True)"
   ]
  },
  {
   "cell_type": "code",
   "execution_count": null,
   "metadata": {},
   "outputs": [],
   "source": []
  },
  {
   "cell_type": "code",
   "execution_count": 239,
   "metadata": {},
   "outputs": [],
   "source": [
    "R.set_state ('Test1', 'CALIBRATE')\n",
    "R.set_state ('Test2', 'CALIBRATE')"
   ]
  },
  {
   "cell_type": "code",
   "execution_count": 241,
   "metadata": {},
   "outputs": [],
   "source": [
    "R.set_state ('Test1', 'CONTROL')\n",
    "R.set_state ('Test2', 'CONTROL')"
   ]
  },
  {
   "cell_type": "code",
   "execution_count": 245,
   "metadata": {},
   "outputs": [],
   "source": [
    "R.set_state ('Test1', 'IDLE')\n",
    "R.set_state ('Test2', 'IDLE')"
   ]
  },
  {
   "cell_type": "code",
   "execution_count": 199,
   "metadata": {},
   "outputs": [],
   "source": [
    "R.reset(['Test1', 'Test2'], [0, 0])"
   ]
  },
  {
   "cell_type": "code",
   "execution_count": 225,
   "metadata": {},
   "outputs": [],
   "source": [
    "R.snap(['Test1'],[-1.141])"
   ]
  },
  {
   "cell_type": "code",
   "execution_count": 226,
   "metadata": {},
   "outputs": [],
   "source": [
    "R.snap(['Test2'],[-1.141])"
   ]
  },
  {
   "cell_type": "code",
   "execution_count": 227,
   "metadata": {},
   "outputs": [],
   "source": [
    "R.snap(['Test1'],[1.141])"
   ]
  },
  {
   "cell_type": "code",
   "execution_count": 228,
   "metadata": {},
   "outputs": [],
   "source": [
    "R.snap(['Test2'],[1.141])"
   ]
  },
  {
   "cell_type": "code",
   "execution_count": 229,
   "metadata": {},
   "outputs": [],
   "source": [
    "R.snap(['Test1'],[0])"
   ]
  },
  {
   "cell_type": "code",
   "execution_count": 230,
   "metadata": {},
   "outputs": [],
   "source": [
    "R.snap(['Test2'],[0])"
   ]
  },
  {
   "cell_type": "code",
   "execution_count": 242,
   "metadata": {},
   "outputs": [],
   "source": [
    "R.snap(['Test1', 'Test2'], [.5, .5])"
   ]
  },
  {
   "cell_type": "code",
   "execution_count": 243,
   "metadata": {},
   "outputs": [],
   "source": [
    "R.snap(['Test1', 'Test2'], [-.5, -.5])"
   ]
  },
  {
   "cell_type": "code",
   "execution_count": 244,
   "metadata": {},
   "outputs": [],
   "source": [
    "R.snap(['Test1', 'Test2'], [0., 0.])"
   ]
  },
  {
   "cell_type": "code",
   "execution_count": null,
   "metadata": {},
   "outputs": [],
   "source": []
  },
  {
   "cell_type": "code",
   "execution_count": null,
   "metadata": {},
   "outputs": [],
   "source": []
  },
  {
   "cell_type": "code",
   "execution_count": 185,
   "metadata": {},
   "outputs": [],
   "source": [
    "def test_sin (labels, revolutions, amplitude, set_states=False):\n",
    "    if set_states:\n",
    "        self.set_state (labels, 'CONTROL')\n",
    "    iterations = 1000\n",
    "    for i in range (iterations):\n",
    "        R.snap (labels, [math.sin(revolutions * 6.282 * i / iterations) * amplitude] * len(labels))\n",
    "        time.sleep (5.0 / iterations)\n",
    "    if set_states:\n",
    "        self.set_state (label, 'IDLE')"
   ]
  },
  {
   "cell_type": "code",
   "execution_count": 186,
   "metadata": {},
   "outputs": [],
   "source": [
    "test_sin (['Test1', 'Test2'], 2, 1)"
   ]
  },
  {
   "cell_type": "code",
   "execution_count": null,
   "metadata": {},
   "outputs": [],
   "source": []
  }
 ],
 "metadata": {
  "kernelspec": {
   "display_name": "Python 3",
   "language": "python",
   "name": "python3"
  },
  "language_info": {
   "codemirror_mode": {
    "name": "ipython",
    "version": 3
   },
   "file_extension": ".py",
   "mimetype": "text/x-python",
   "name": "python",
   "nbconvert_exporter": "python",
   "pygments_lexer": "ipython3",
   "version": "3.7.7"
  }
 },
 "nbformat": 4,
 "nbformat_minor": 4
}
