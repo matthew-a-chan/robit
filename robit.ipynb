{
 "cells": [
  {
   "cell_type": "code",
   "execution_count": 466,
   "metadata": {},
   "outputs": [],
   "source": [
    "%reload_ext autoreload"
   ]
  },
  {
   "cell_type": "code",
   "execution_count": 1,
   "metadata": {},
   "outputs": [],
   "source": [
    "%load_ext autoreload\n",
    "%aimport robit\n",
    "%aimport ik\n",
    "%autoreload 1"
   ]
  },
  {
   "cell_type": "code",
   "execution_count": 2,
   "metadata": {},
   "outputs": [],
   "source": [
    "import robit\n",
    "import ik"
   ]
  },
  {
   "cell_type": "code",
   "execution_count": 346,
   "metadata": {},
   "outputs": [],
   "source": [
    "import matplotlib.pyplot as plt\n",
    "import numpy as np\n",
    "import time\n",
    "import odrive\n",
    "from odrive.utils import *\n",
    "import tinyik\n",
    "import math"
   ]
  },
  {
   "cell_type": "code",
   "execution_count": 23,
   "metadata": {},
   "outputs": [
    {
     "name": "stdout",
     "output_type": "stream",
     "text": [
      "looking for device 205B39964D4D\n",
      "found device\n"
     ]
    }
   ],
   "source": [
    "R = robit.Robit([('205B39964D4D', 'Test1', 'Test2')])"
   ]
  },
  {
   "cell_type": "code",
   "execution_count": 29,
   "metadata": {},
   "outputs": [
    {
     "name": "stdout",
     "output_type": "stream",
     "text": [
      "control_mode = 3 (int)\n",
      "pos_gain = 50.0 (float)\n",
      "vel_gain = 5.999999848427251e-05 (float)\n",
      "vel_integrator_gain = 0.0 (float)\n",
      "vel_limit = 40000.0 (float)\n",
      "vel_limit_tolerance = 1.2000000476837158 (float)\n",
      "vel_ramp_rate = 10000.0 (float)\n",
      "setpoints_in_cpr = False (bool)\n"
     ]
    }
   ],
   "source": [
    "print (R.devices['205B39964D4D'].axis0.controller.config)"
   ]
  },
  {
   "cell_type": "code",
   "execution_count": 430,
   "metadata": {},
   "outputs": [],
   "source": [
    "R.set_state ('Test1', 'CONTROL')\n",
    "R.set_state ('Test2', 'CONTROL')"
   ]
  },
  {
   "cell_type": "code",
   "execution_count": 30,
   "metadata": {},
   "outputs": [],
   "source": [
    "R.set_state ('Test1', 'CALIBRATE')\n",
    "R.set_state ('Test2', 'CALIBRATE')"
   ]
  },
  {
   "cell_type": "code",
   "execution_count": 291,
   "metadata": {},
   "outputs": [],
   "source": [
    "R.set_state ('Test1', 'IDLE')\n",
    "R.set_state ('Test2', 'IDLE')"
   ]
  },
  {
   "cell_type": "code",
   "execution_count": 188,
   "metadata": {},
   "outputs": [],
   "source": [
    "R.reset(['Test1', 'Test2'], [0, 0])"
   ]
  },
  {
   "cell_type": "code",
   "execution_count": 260,
   "metadata": {},
   "outputs": [],
   "source": [
    "R.snap(['Test1'],[-1.141])"
   ]
  },
  {
   "cell_type": "code",
   "execution_count": 261,
   "metadata": {},
   "outputs": [],
   "source": [
    "R.snap(['Test2'],[-1.141])"
   ]
  },
  {
   "cell_type": "code",
   "execution_count": 262,
   "metadata": {},
   "outputs": [],
   "source": [
    "R.snap(['Test1'],[1.141])"
   ]
  },
  {
   "cell_type": "code",
   "execution_count": 263,
   "metadata": {},
   "outputs": [],
   "source": [
    "R.snap(['Test2'],[1.141])"
   ]
  },
  {
   "cell_type": "code",
   "execution_count": 264,
   "metadata": {},
   "outputs": [],
   "source": [
    "R.snap(['Test1'],[0])"
   ]
  },
  {
   "cell_type": "code",
   "execution_count": 265,
   "metadata": {},
   "outputs": [],
   "source": [
    "R.snap(['Test2'],[0])"
   ]
  },
  {
   "cell_type": "code",
   "execution_count": 74,
   "metadata": {},
   "outputs": [],
   "source": [
    "R.snap(['Test1', 'Test2'], [.5, .5])"
   ]
  },
  {
   "cell_type": "code",
   "execution_count": 75,
   "metadata": {},
   "outputs": [],
   "source": [
    "R.snap(['Test1', 'Test2'], [-.5, -.5])"
   ]
  },
  {
   "cell_type": "code",
   "execution_count": 293,
   "metadata": {},
   "outputs": [],
   "source": [
    "R.snap(['Test1', 'Test2'], [0., 0.])"
   ]
  },
  {
   "cell_type": "code",
   "execution_count": 71,
   "metadata": {},
   "outputs": [],
   "source": [
    "R.test_sin (['Test1', 'Test2'], 2, 1)"
   ]
  },
  {
   "cell_type": "code",
   "execution_count": 33,
   "metadata": {},
   "outputs": [],
   "source": []
  },
  {
   "cell_type": "code",
   "execution_count": 252,
   "metadata": {},
   "outputs": [
    {
     "name": "stdout",
     "output_type": "stream",
     "text": [
      "205B39964D4D\n",
      "axis0\n",
      "  axis: \u001b[92;1mno error\u001b[0m\n",
      "  motor: \u001b[92;1mno error\u001b[0m\n",
      "  encoder: \u001b[92;1mno error\u001b[0m\n",
      "  controller: \u001b[92;1mno error\u001b[0m\n",
      "axis1\n",
      "  axis: \u001b[92;1mno error\u001b[0m\n",
      "  motor: \u001b[92;1mno error\u001b[0m\n",
      "  encoder: \u001b[92;1mno error\u001b[0m\n",
      "  controller: \u001b[92;1mno error\u001b[0m\n"
     ]
    }
   ],
   "source": [
    "for serial in R.devices.keys ():\n",
    "    print (serial)\n",
    "    dump_errors (R.devices[serial], True)"
   ]
  },
  {
   "cell_type": "code",
   "execution_count": 298,
   "metadata": {},
   "outputs": [],
   "source": [
    "# Front left\n",
    "leg = tinyik.Actuator(['y', [0., 0., -116.], 'y', [0., 0., -125.]])\n",
    "\n"
   ]
  },
  {
   "cell_type": "code",
   "execution_count": 299,
   "metadata": {},
   "outputs": [
    {
     "data": {
      "text/plain": [
       "array([  -0.,    0., -241.])"
      ]
     },
     "execution_count": 299,
     "metadata": {},
     "output_type": "execute_result"
    }
   ],
   "source": [
    "deg = [0.0001, 0.0001]\n",
    "leg.angles = np.deg2rad(deg)\n",
    "np.round(leg.ee)"
   ]
  },
  {
   "cell_type": "code",
   "execution_count": 363,
   "metadata": {},
   "outputs": [],
   "source": [
    "i = 0"
   ]
  },
  {
   "cell_type": "code",
   "execution_count": 427,
   "metadata": {},
   "outputs": [
    {
     "data": {
      "text/plain": [
       "(-57.064431359519105, 70.3756607977336)"
      ]
     },
     "execution_count": 427,
     "metadata": {},
     "output_type": "execute_result"
    }
   ],
   "source": [
    "size = 80\n",
    "x,z = math.cos (i) * size * 1.5, -math.sin(i) * size\n",
    "i += .5\n",
    "x, z"
   ]
  },
  {
   "cell_type": "code",
   "execution_count": 428,
   "metadata": {},
   "outputs": [
    {
     "data": {
      "text/plain": [
       "array([-0.51203143, -2.50746494])"
      ]
     },
     "execution_count": 428,
     "metadata": {},
     "output_type": "execute_result"
    }
   ],
   "source": [
    "center = [ 0.,    0., -120.]\n",
    "\n",
    "leg.ee = [center[0] + x, center[1], center[2] + z]\n",
    "angles = np.clip(leg.angles, -3, 3)\n",
    "angles[1] = -angles[1]\n",
    "angles"
   ]
  },
  {
   "cell_type": "code",
   "execution_count": 429,
   "metadata": {},
   "outputs": [],
   "source": [
    "R.snap(['Test2', 'Test1'], angles)"
   ]
  },
  {
   "cell_type": "code",
   "execution_count": 440,
   "metadata": {},
   "outputs": [
    {
     "name": "stdout",
     "output_type": "stream",
     "text": [
      "12.290964841842651\n",
      "12.430148839950562\n"
     ]
    }
   ],
   "source": [
    "start = time.time ()\n",
    "ik = 0\n",
    "for i in range (0, 120, 1):\n",
    "    size = 60\n",
    "    x,z = math.cos (i/10) * size * 1.5, -math.sin(i/10) * size\n",
    "\n",
    "    center = [ 0.,    0., -140.]\n",
    "    \n",
    "    \n",
    "    point = [center[0] + x, center[1], center[2] + z]\n",
    "    current = time.time ()\n",
    "    leg.ee = point\n",
    "    ik += time.time () - current\n",
    "    angles = np.clip(leg.angles, -3, 3)\n",
    "    \n",
    "    angles[1] = -angles[1]\n",
    "    angles\n",
    "\n",
    "    R.snap(['Test2', 'Test1'], angles)\n",
    "    \n",
    "#    time.sleep (.001)\n",
    "\n",
    "print (ik)\n",
    "print (time.time() - start)"
   ]
  },
  {
   "cell_type": "code",
   "execution_count": 441,
   "metadata": {},
   "outputs": [],
   "source": [
    "R.set_state ('Test1', 'IDLE')\n",
    "R.set_state ('Test2', 'IDLE')"
   ]
  },
  {
   "cell_type": "code",
   "execution_count": 255,
   "metadata": {},
   "outputs": [],
   "source": [
    "for label in R.motor_table.keys ():\n",
    "    motor = R.get_motor (label)\n",
    "    motor.motor.config.current_lim = 20\n",
    "    motor.controller.config.vel_limit = 25000\n",
    "    motor.motor.config.calibration_current = 5\n",
    "    motor.motor.config.pole_pairs = 12\n",
    "    motor.motor.config.motor_type = 0\n",
    "    motor.encoder.config.cpr = 8192\n",
    "    \n",
    "    motor.controller.config.control_mode = 3\n",
    "    motor.controller.config.pos_gain = 50\n",
    "    motor.controller.config.vel_gain = 6 / 100000\n",
    "    motor.controller.config.vel_integrator_gain = 0\n",
    "    motor.controller.config.vel_limit_tolerance = 1.2\n",
    "    motor.controller.config.vel_ramp_rate = 10000"
   ]
  },
  {
   "cell_type": "code",
   "execution_count": null,
   "metadata": {},
   "outputs": [],
   "source": [
    "for device in R.devices.values ():\n",
    "    device.save_configuration()\n",
    "    device.reboot()"
   ]
  },
  {
   "cell_type": "code",
   "execution_count": null,
   "metadata": {},
   "outputs": [],
   "source": []
  },
  {
   "cell_type": "code",
   "execution_count": null,
   "metadata": {},
   "outputs": [],
   "source": []
  },
  {
   "cell_type": "code",
   "execution_count": 117,
   "metadata": {},
   "outputs": [],
   "source": [
    "import ik"
   ]
  },
  {
   "cell_type": "code",
   "execution_count": 384,
   "metadata": {},
   "outputs": [
    {
     "name": "stdout",
     "output_type": "stream",
     "text": [
      "20.0 115.0 115.0\n",
      "101.9803902718557 20.0\n",
      "height: 100.0\n",
      "-0.6219281663516069\n",
      "0.0\n",
      "-1.120999466370539\n"
     ]
    },
    {
     "data": {
      "text/plain": [
       "(0.0, 1.120999466370539, -2.241998932741078)"
      ]
     },
     "execution_count": 384,
     "metadata": {},
     "output_type": "execute_result"
    }
   ],
   "source": [
    "angles = ik.solve ([20, 0, -100], True)\n",
    "angles"
   ]
  },
  {
   "cell_type": "markdown",
   "metadata": {},
   "source": []
  },
  {
   "cell_type": "code",
   "execution_count": null,
   "metadata": {},
   "outputs": [],
   "source": []
  }
 ],
 "metadata": {
  "kernelspec": {
   "display_name": "Python 3",
   "language": "python",
   "name": "python3"
  },
  "language_info": {
   "codemirror_mode": {
    "name": "ipython",
    "version": 3
   },
   "file_extension": ".py",
   "mimetype": "text/x-python",
   "name": "python",
   "nbconvert_exporter": "python",
   "pygments_lexer": "ipython3",
   "version": "3.7.7"
  }
 },
 "nbformat": 4,
 "nbformat_minor": 4
}
